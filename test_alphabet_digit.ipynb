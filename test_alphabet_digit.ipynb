{
 "cells": [
  {
   "cell_type": "code",
   "execution_count": 1,
   "id": "33a342e9-7080-43b4-be7a-698f8c10f277",
   "metadata": {},
   "outputs": [],
   "source": [
    "# importing necessary libraries\n",
    "import pandas as pd\n",
    "import numpy as np\n",
    "import matplotlib.pyplot as plt\n",
    "\n",
    "import torch\n",
    "import torchvision\n",
    "from torch.utils.data import Dataset, DataLoader\n",
    "import torchvision.transforms as transforms\n",
    "import torch.nn as nn\n",
    "import torch.nn.functional as F\n",
    "import torch.optim as optim"
   ]
  },
  {
   "cell_type": "code",
   "execution_count": 2,
   "id": "cdadd0d6-b41b-4a23-933a-8818f8ea99bb",
   "metadata": {},
   "outputs": [],
   "source": [
    "import warnings\n",
    "warnings.filterwarnings('ignore')"
   ]
  },
  {
   "cell_type": "code",
   "execution_count": 3,
   "id": "95051e4e-8e3a-4199-a757-0e0f94908560",
   "metadata": {},
   "outputs": [
    {
     "data": {
      "text/plain": [
       "Net(\n",
       "  (conv1): Conv2d(1, 32, kernel_size=(5, 5), stride=(1, 1))\n",
       "  (pool1): MaxPool2d(kernel_size=2, stride=2, padding=0, dilation=1, ceil_mode=False)\n",
       "  (conv2): Conv2d(32, 64, kernel_size=(5, 5), stride=(1, 1))\n",
       "  (conv3): Conv2d(64, 128, kernel_size=(3, 3), stride=(1, 1))\n",
       "  (fc1): Linear(in_features=4608, out_features=1024, bias=True)\n",
       "  (dropout1): Dropout(p=0.3, inplace=False)\n",
       "  (fc2): Linear(in_features=1024, out_features=256, bias=True)\n",
       "  (dropout2): Dropout(p=0.3, inplace=False)\n",
       "  (fc3): Linear(in_features=256, out_features=128, bias=True)\n",
       "  (fc4): Linear(in_features=128, out_features=36, bias=True)\n",
       ")"
      ]
     },
     "execution_count": 3,
     "metadata": {},
     "output_type": "execute_result"
    }
   ],
   "source": [
    "# re-defining class for loading weights from saved file\n",
    "class Net(nn.Module):\n",
    "    def __init__(self):\n",
    "        super().__init__()\n",
    "        self.conv1 = nn.Conv2d(1, 32, 5)\n",
    "        self.pool1 = nn.MaxPool2d(2, 2)\n",
    "        self.conv2 = nn.Conv2d(32, 64, 5)\n",
    "        self.conv3 = nn.Conv2d(64, 128, 3)\n",
    "        self.fc1 = nn.Linear(4608, 1024)\n",
    "        self.dropout1 = nn.Dropout(0.3)\n",
    "        self.fc2 = nn.Linear(1024, 256)\n",
    "        self.dropout2 = nn.Dropout(0.3)\n",
    "        self.fc3 = nn.Linear(256, 128)\n",
    "        self.fc4 = nn.Linear(128, 36)\n",
    "        \n",
    "    def forward(self, x):\n",
    "        x = self.pool1(F.relu(self.conv1(x)))\n",
    "        x = F.relu(self.conv2(x))\n",
    "        x = F.relu(self.conv3(x))\n",
    "        x = x.view(-1, 4608)\n",
    "        x = self.dropout1(F.relu(self.fc1(x)))\n",
    "        x = self.dropout2(F.relu(self.fc2(x)))\n",
    "        x = F.relu(self.fc3(x))\n",
    "        x = self.fc4(x)\n",
    "        return F.log_softmax(x)\n",
    "    \n",
    "model = Net()\n",
    "# loading pre-trained weights into the model\n",
    "model.load_state_dict(torch.load(\"C:/Users/PRANEETH/Downloads/Handwritten-digit-and-alphabet-recognition--main/Handwritten-digit-and-alphabet-recognition--main/models/model.pt\", map_location=torch.device('cpu')))\n",
    "# switching from training mode to testing mode\n",
    "model.eval()"
   ]
  },
  {
   "cell_type": "code",
   "execution_count": 5,
   "id": "e4ddc6ba",
   "metadata": {},
   "outputs": [
    {
     "name": "stdout",
     "output_type": "stream",
     "text": [
      "Collecting pytorch-model-summary\n",
      "  Obtaining dependency information for pytorch-model-summary from https://files.pythonhosted.org/packages/fe/45/01d67be55fe3683a9221ac956ba46d1ca32da7bf96029b8d1c7667b8a55c/pytorch_model_summary-0.1.2-py3-none-any.whl.metadata\n",
      "  Downloading pytorch_model_summary-0.1.2-py3-none-any.whl.metadata (35 kB)\n",
      "Requirement already satisfied: tqdm in c:\\users\\praneeth\\anaconda3\\lib\\site-packages (from pytorch-model-summary) (4.65.0)\n",
      "Requirement already satisfied: torch in c:\\users\\praneeth\\anaconda3\\lib\\site-packages (from pytorch-model-summary) (2.6.0)\n",
      "Requirement already satisfied: numpy in c:\\users\\praneeth\\anaconda3\\lib\\site-packages (from pytorch-model-summary) (1.23.5)\n",
      "Requirement already satisfied: filelock in c:\\users\\praneeth\\anaconda3\\lib\\site-packages (from torch->pytorch-model-summary) (3.9.0)\n",
      "Requirement already satisfied: typing-extensions>=4.10.0 in c:\\users\\praneeth\\anaconda3\\lib\\site-packages (from torch->pytorch-model-summary) (4.12.2)\n",
      "Requirement already satisfied: networkx in c:\\users\\praneeth\\anaconda3\\lib\\site-packages (from torch->pytorch-model-summary) (3.1)\n",
      "Requirement already satisfied: jinja2 in c:\\users\\praneeth\\anaconda3\\lib\\site-packages (from torch->pytorch-model-summary) (3.1.2)\n",
      "Requirement already satisfied: fsspec in c:\\users\\praneeth\\anaconda3\\lib\\site-packages (from torch->pytorch-model-summary) (2023.3.0)\n",
      "Requirement already satisfied: sympy==1.13.1 in c:\\users\\praneeth\\anaconda3\\lib\\site-packages (from torch->pytorch-model-summary) (1.13.1)\n",
      "Requirement already satisfied: mpmath<1.4,>=1.1.0 in c:\\users\\praneeth\\anaconda3\\lib\\site-packages (from sympy==1.13.1->torch->pytorch-model-summary) (1.3.0)\n",
      "Requirement already satisfied: colorama in c:\\users\\praneeth\\anaconda3\\lib\\site-packages (from tqdm->pytorch-model-summary) (0.4.6)\n",
      "Requirement already satisfied: MarkupSafe>=2.0 in c:\\users\\praneeth\\anaconda3\\lib\\site-packages (from jinja2->torch->pytorch-model-summary) (2.1.1)\n",
      "Downloading pytorch_model_summary-0.1.2-py3-none-any.whl (9.3 kB)\n",
      "Installing collected packages: pytorch-model-summary\n",
      "Successfully installed pytorch-model-summary-0.1.2\n",
      "Note: you may need to restart the kernel to use updated packages.\n"
     ]
    }
   ],
   "source": [
    "pip install pytorch-model-summary\n"
   ]
  },
  {
   "cell_type": "code",
   "execution_count": 6,
   "id": "fd792282-da40-4009-93ab-aa22557aa987",
   "metadata": {},
   "outputs": [
    {
     "name": "stdout",
     "output_type": "stream",
     "text": [
      "-----------------------------------------------------------------------\n",
      "      Layer (type)        Output Shape         Param #     Tr. Param #\n",
      "=======================================================================\n",
      "          Conv2d-1     [1, 32, 24, 24]             832             832\n",
      "       MaxPool2d-2     [1, 32, 12, 12]               0               0\n",
      "          Conv2d-3       [1, 64, 8, 8]          51,264          51,264\n",
      "          Conv2d-4      [1, 128, 6, 6]          73,856          73,856\n",
      "          Linear-5           [1, 1024]       4,719,616       4,719,616\n",
      "         Dropout-6           [1, 1024]               0               0\n",
      "          Linear-7            [1, 256]         262,400         262,400\n",
      "         Dropout-8            [1, 256]               0               0\n",
      "          Linear-9            [1, 128]          32,896          32,896\n",
      "         Linear-10             [1, 36]           4,644           4,644\n",
      "=======================================================================\n",
      "Total params: 5,145,508\n",
      "Trainable params: 5,145,508\n",
      "Non-trainable params: 0\n",
      "-----------------------------------------------------------------------\n"
     ]
    }
   ],
   "source": [
    "from pytorch_model_summary import summary\n",
    "# printing keras-style model summary\n",
    "print(summary(Net(), torch.zeros((1, 1, 28, 28))))"
   ]
  },
  {
   "cell_type": "code",
   "execution_count": 7,
   "id": "a1ec79da-133c-4d26-b20e-9c8c2650f5ba",
   "metadata": {},
   "outputs": [],
   "source": [
    "df1 = pd.read_csv(\"C:/Users/PRANEETH/Downloads/archive (1)/mnist_train.csv\")\n",
    "df2 = pd.read_csv(\"C:/Users/PRANEETH/Downloads/archive (1)/mnist_test.csv\")"
   ]
  },
  {
   "cell_type": "code",
   "execution_count": 8,
   "id": "2b22df8d-dfaf-484a-83ca-d621aaca5fcd",
   "metadata": {},
   "outputs": [
    {
     "data": {
      "text/html": [
       "<div>\n",
       "<style scoped>\n",
       "    .dataframe tbody tr th:only-of-type {\n",
       "        vertical-align: middle;\n",
       "    }\n",
       "\n",
       "    .dataframe tbody tr th {\n",
       "        vertical-align: top;\n",
       "    }\n",
       "\n",
       "    .dataframe thead th {\n",
       "        text-align: right;\n",
       "    }\n",
       "</style>\n",
       "<table border=\"1\" class=\"dataframe\">\n",
       "  <thead>\n",
       "    <tr style=\"text-align: right;\">\n",
       "      <th></th>\n",
       "      <th>label</th>\n",
       "      <th>1x1</th>\n",
       "      <th>1x2</th>\n",
       "      <th>1x3</th>\n",
       "      <th>1x4</th>\n",
       "      <th>1x5</th>\n",
       "      <th>1x6</th>\n",
       "      <th>1x7</th>\n",
       "      <th>1x8</th>\n",
       "      <th>1x9</th>\n",
       "      <th>...</th>\n",
       "      <th>28x19</th>\n",
       "      <th>28x20</th>\n",
       "      <th>28x21</th>\n",
       "      <th>28x22</th>\n",
       "      <th>28x23</th>\n",
       "      <th>28x24</th>\n",
       "      <th>28x25</th>\n",
       "      <th>28x26</th>\n",
       "      <th>28x27</th>\n",
       "      <th>28x28</th>\n",
       "    </tr>\n",
       "  </thead>\n",
       "  <tbody>\n",
       "    <tr>\n",
       "      <th>0</th>\n",
       "      <td>5</td>\n",
       "      <td>0</td>\n",
       "      <td>0</td>\n",
       "      <td>0</td>\n",
       "      <td>0</td>\n",
       "      <td>0</td>\n",
       "      <td>0</td>\n",
       "      <td>0</td>\n",
       "      <td>0</td>\n",
       "      <td>0</td>\n",
       "      <td>...</td>\n",
       "      <td>0</td>\n",
       "      <td>0</td>\n",
       "      <td>0</td>\n",
       "      <td>0</td>\n",
       "      <td>0</td>\n",
       "      <td>0</td>\n",
       "      <td>0</td>\n",
       "      <td>0</td>\n",
       "      <td>0</td>\n",
       "      <td>0</td>\n",
       "    </tr>\n",
       "    <tr>\n",
       "      <th>1</th>\n",
       "      <td>0</td>\n",
       "      <td>0</td>\n",
       "      <td>0</td>\n",
       "      <td>0</td>\n",
       "      <td>0</td>\n",
       "      <td>0</td>\n",
       "      <td>0</td>\n",
       "      <td>0</td>\n",
       "      <td>0</td>\n",
       "      <td>0</td>\n",
       "      <td>...</td>\n",
       "      <td>0</td>\n",
       "      <td>0</td>\n",
       "      <td>0</td>\n",
       "      <td>0</td>\n",
       "      <td>0</td>\n",
       "      <td>0</td>\n",
       "      <td>0</td>\n",
       "      <td>0</td>\n",
       "      <td>0</td>\n",
       "      <td>0</td>\n",
       "    </tr>\n",
       "    <tr>\n",
       "      <th>2</th>\n",
       "      <td>4</td>\n",
       "      <td>0</td>\n",
       "      <td>0</td>\n",
       "      <td>0</td>\n",
       "      <td>0</td>\n",
       "      <td>0</td>\n",
       "      <td>0</td>\n",
       "      <td>0</td>\n",
       "      <td>0</td>\n",
       "      <td>0</td>\n",
       "      <td>...</td>\n",
       "      <td>0</td>\n",
       "      <td>0</td>\n",
       "      <td>0</td>\n",
       "      <td>0</td>\n",
       "      <td>0</td>\n",
       "      <td>0</td>\n",
       "      <td>0</td>\n",
       "      <td>0</td>\n",
       "      <td>0</td>\n",
       "      <td>0</td>\n",
       "    </tr>\n",
       "    <tr>\n",
       "      <th>3</th>\n",
       "      <td>1</td>\n",
       "      <td>0</td>\n",
       "      <td>0</td>\n",
       "      <td>0</td>\n",
       "      <td>0</td>\n",
       "      <td>0</td>\n",
       "      <td>0</td>\n",
       "      <td>0</td>\n",
       "      <td>0</td>\n",
       "      <td>0</td>\n",
       "      <td>...</td>\n",
       "      <td>0</td>\n",
       "      <td>0</td>\n",
       "      <td>0</td>\n",
       "      <td>0</td>\n",
       "      <td>0</td>\n",
       "      <td>0</td>\n",
       "      <td>0</td>\n",
       "      <td>0</td>\n",
       "      <td>0</td>\n",
       "      <td>0</td>\n",
       "    </tr>\n",
       "    <tr>\n",
       "      <th>4</th>\n",
       "      <td>9</td>\n",
       "      <td>0</td>\n",
       "      <td>0</td>\n",
       "      <td>0</td>\n",
       "      <td>0</td>\n",
       "      <td>0</td>\n",
       "      <td>0</td>\n",
       "      <td>0</td>\n",
       "      <td>0</td>\n",
       "      <td>0</td>\n",
       "      <td>...</td>\n",
       "      <td>0</td>\n",
       "      <td>0</td>\n",
       "      <td>0</td>\n",
       "      <td>0</td>\n",
       "      <td>0</td>\n",
       "      <td>0</td>\n",
       "      <td>0</td>\n",
       "      <td>0</td>\n",
       "      <td>0</td>\n",
       "      <td>0</td>\n",
       "    </tr>\n",
       "  </tbody>\n",
       "</table>\n",
       "<p>5 rows × 785 columns</p>\n",
       "</div>"
      ],
      "text/plain": [
       "   label  1x1  1x2  1x3  1x4  1x5  1x6  1x7  1x8  1x9  ...  28x19  28x20  \\\n",
       "0      5    0    0    0    0    0    0    0    0    0  ...      0      0   \n",
       "1      0    0    0    0    0    0    0    0    0    0  ...      0      0   \n",
       "2      4    0    0    0    0    0    0    0    0    0  ...      0      0   \n",
       "3      1    0    0    0    0    0    0    0    0    0  ...      0      0   \n",
       "4      9    0    0    0    0    0    0    0    0    0  ...      0      0   \n",
       "\n",
       "   28x21  28x22  28x23  28x24  28x25  28x26  28x27  28x28  \n",
       "0      0      0      0      0      0      0      0      0  \n",
       "1      0      0      0      0      0      0      0      0  \n",
       "2      0      0      0      0      0      0      0      0  \n",
       "3      0      0      0      0      0      0      0      0  \n",
       "4      0      0      0      0      0      0      0      0  \n",
       "\n",
       "[5 rows x 785 columns]"
      ]
     },
     "execution_count": 8,
     "metadata": {},
     "output_type": "execute_result"
    }
   ],
   "source": [
    "df1.head()"
   ]
  },
  {
   "cell_type": "code",
   "execution_count": 9,
   "id": "1dd825a3-c3b0-49bf-bc64-89efb45d7165",
   "metadata": {},
   "outputs": [
    {
     "data": {
      "text/html": [
       "<div>\n",
       "<style scoped>\n",
       "    .dataframe tbody tr th:only-of-type {\n",
       "        vertical-align: middle;\n",
       "    }\n",
       "\n",
       "    .dataframe tbody tr th {\n",
       "        vertical-align: top;\n",
       "    }\n",
       "\n",
       "    .dataframe thead th {\n",
       "        text-align: right;\n",
       "    }\n",
       "</style>\n",
       "<table border=\"1\" class=\"dataframe\">\n",
       "  <thead>\n",
       "    <tr style=\"text-align: right;\">\n",
       "      <th></th>\n",
       "      <th>label</th>\n",
       "      <th>1x1</th>\n",
       "      <th>1x2</th>\n",
       "      <th>1x3</th>\n",
       "      <th>1x4</th>\n",
       "      <th>1x5</th>\n",
       "      <th>1x6</th>\n",
       "      <th>1x7</th>\n",
       "      <th>1x8</th>\n",
       "      <th>1x9</th>\n",
       "      <th>...</th>\n",
       "      <th>28x19</th>\n",
       "      <th>28x20</th>\n",
       "      <th>28x21</th>\n",
       "      <th>28x22</th>\n",
       "      <th>28x23</th>\n",
       "      <th>28x24</th>\n",
       "      <th>28x25</th>\n",
       "      <th>28x26</th>\n",
       "      <th>28x27</th>\n",
       "      <th>28x28</th>\n",
       "    </tr>\n",
       "  </thead>\n",
       "  <tbody>\n",
       "    <tr>\n",
       "      <th>0</th>\n",
       "      <td>7</td>\n",
       "      <td>0</td>\n",
       "      <td>0</td>\n",
       "      <td>0</td>\n",
       "      <td>0</td>\n",
       "      <td>0</td>\n",
       "      <td>0</td>\n",
       "      <td>0</td>\n",
       "      <td>0</td>\n",
       "      <td>0</td>\n",
       "      <td>...</td>\n",
       "      <td>0</td>\n",
       "      <td>0</td>\n",
       "      <td>0</td>\n",
       "      <td>0</td>\n",
       "      <td>0</td>\n",
       "      <td>0</td>\n",
       "      <td>0</td>\n",
       "      <td>0</td>\n",
       "      <td>0</td>\n",
       "      <td>0</td>\n",
       "    </tr>\n",
       "    <tr>\n",
       "      <th>1</th>\n",
       "      <td>2</td>\n",
       "      <td>0</td>\n",
       "      <td>0</td>\n",
       "      <td>0</td>\n",
       "      <td>0</td>\n",
       "      <td>0</td>\n",
       "      <td>0</td>\n",
       "      <td>0</td>\n",
       "      <td>0</td>\n",
       "      <td>0</td>\n",
       "      <td>...</td>\n",
       "      <td>0</td>\n",
       "      <td>0</td>\n",
       "      <td>0</td>\n",
       "      <td>0</td>\n",
       "      <td>0</td>\n",
       "      <td>0</td>\n",
       "      <td>0</td>\n",
       "      <td>0</td>\n",
       "      <td>0</td>\n",
       "      <td>0</td>\n",
       "    </tr>\n",
       "    <tr>\n",
       "      <th>2</th>\n",
       "      <td>1</td>\n",
       "      <td>0</td>\n",
       "      <td>0</td>\n",
       "      <td>0</td>\n",
       "      <td>0</td>\n",
       "      <td>0</td>\n",
       "      <td>0</td>\n",
       "      <td>0</td>\n",
       "      <td>0</td>\n",
       "      <td>0</td>\n",
       "      <td>...</td>\n",
       "      <td>0</td>\n",
       "      <td>0</td>\n",
       "      <td>0</td>\n",
       "      <td>0</td>\n",
       "      <td>0</td>\n",
       "      <td>0</td>\n",
       "      <td>0</td>\n",
       "      <td>0</td>\n",
       "      <td>0</td>\n",
       "      <td>0</td>\n",
       "    </tr>\n",
       "    <tr>\n",
       "      <th>3</th>\n",
       "      <td>0</td>\n",
       "      <td>0</td>\n",
       "      <td>0</td>\n",
       "      <td>0</td>\n",
       "      <td>0</td>\n",
       "      <td>0</td>\n",
       "      <td>0</td>\n",
       "      <td>0</td>\n",
       "      <td>0</td>\n",
       "      <td>0</td>\n",
       "      <td>...</td>\n",
       "      <td>0</td>\n",
       "      <td>0</td>\n",
       "      <td>0</td>\n",
       "      <td>0</td>\n",
       "      <td>0</td>\n",
       "      <td>0</td>\n",
       "      <td>0</td>\n",
       "      <td>0</td>\n",
       "      <td>0</td>\n",
       "      <td>0</td>\n",
       "    </tr>\n",
       "    <tr>\n",
       "      <th>4</th>\n",
       "      <td>4</td>\n",
       "      <td>0</td>\n",
       "      <td>0</td>\n",
       "      <td>0</td>\n",
       "      <td>0</td>\n",
       "      <td>0</td>\n",
       "      <td>0</td>\n",
       "      <td>0</td>\n",
       "      <td>0</td>\n",
       "      <td>0</td>\n",
       "      <td>...</td>\n",
       "      <td>0</td>\n",
       "      <td>0</td>\n",
       "      <td>0</td>\n",
       "      <td>0</td>\n",
       "      <td>0</td>\n",
       "      <td>0</td>\n",
       "      <td>0</td>\n",
       "      <td>0</td>\n",
       "      <td>0</td>\n",
       "      <td>0</td>\n",
       "    </tr>\n",
       "  </tbody>\n",
       "</table>\n",
       "<p>5 rows × 785 columns</p>\n",
       "</div>"
      ],
      "text/plain": [
       "   label  1x1  1x2  1x3  1x4  1x5  1x6  1x7  1x8  1x9  ...  28x19  28x20  \\\n",
       "0      7    0    0    0    0    0    0    0    0    0  ...      0      0   \n",
       "1      2    0    0    0    0    0    0    0    0    0  ...      0      0   \n",
       "2      1    0    0    0    0    0    0    0    0    0  ...      0      0   \n",
       "3      0    0    0    0    0    0    0    0    0    0  ...      0      0   \n",
       "4      4    0    0    0    0    0    0    0    0    0  ...      0      0   \n",
       "\n",
       "   28x21  28x22  28x23  28x24  28x25  28x26  28x27  28x28  \n",
       "0      0      0      0      0      0      0      0      0  \n",
       "1      0      0      0      0      0      0      0      0  \n",
       "2      0      0      0      0      0      0      0      0  \n",
       "3      0      0      0      0      0      0      0      0  \n",
       "4      0      0      0      0      0      0      0      0  \n",
       "\n",
       "[5 rows x 785 columns]"
      ]
     },
     "execution_count": 9,
     "metadata": {},
     "output_type": "execute_result"
    }
   ],
   "source": [
    "df2.head()"
   ]
  },
  {
   "cell_type": "code",
   "execution_count": 12,
   "id": "6f1fa383-91e0-402e-9400-72b0c5805e8c",
   "metadata": {},
   "outputs": [],
   "source": [
    "def read_data(path):\n",
    "    data = []\n",
    "    labels = []\n",
    "    \n",
    "    # Open the file and skip the header row\n",
    "    with open(path, 'r') as file:\n",
    "        next(file)  # Skip the first line (header)\n",
    "        \n",
    "        for row in file:\n",
    "            row = row.strip().split(',')\n",
    "            label = int(row[0])\n",
    "            image = np.array([int(x) for x in row[1:]], dtype=\"uint8\")\n",
    "            \n",
    "            image = image.reshape((28, 28))\n",
    "            \n",
    "            data.append(image)\n",
    "            labels.append(label)\n",
    "        \n",
    "    data = np.array(data, dtype=\"float32\")\n",
    "    labels = np.array(labels, dtype=\"int\")\n",
    "    \n",
    "    return data, labels\n",
    "\n",
    "# Loading the datasets\n",
    "alphabets, labels_alphabets = read_data(\"C:/Users/PRANEETH/Downloads/archive (2)/A_Z Handwritten Data.csv\")\n",
    "labels_alphabets += 10\n",
    "\n",
    "digits_train, labels_digits_train = read_data(\"C:/Users/PRANEETH/Downloads/archive (1)/mnist_train.csv\")\n",
    "digits_test, labels_digits_test = read_data(\"C:/Users/PRANEETH/Downloads/archive (1)/mnist_test.csv\")\n",
    "\n",
    "# Combining the digits datasets\n",
    "digits = np.vstack([digits_train, digits_test])\n",
    "labels_digits = np.hstack([labels_digits_train, labels_digits_test])\n"
   ]
  },
  {
   "cell_type": "code",
   "execution_count": 13,
   "id": "5e59cd4a-c1c3-4b22-8fb9-a16c0e7db68e",
   "metadata": {},
   "outputs": [],
   "source": [
    "labels = ['0', '1', '2', '3', '4', '5', '6', '7', '8', '9', 'A', 'B', 'C', 'D', 'E', 'F', 'G', 'H', 'I', 'J', 'K',\n",
    "         'L', 'M', 'N', 'O', 'P', 'Q', 'R', 'S', 'T', 'U', 'V', 'W', 'X', 'Y', 'Z']"
   ]
  },
  {
   "cell_type": "code",
   "execution_count": 14,
   "id": "ad0b9650-40f2-487c-9680-157c65be49a8",
   "metadata": {},
   "outputs": [],
   "source": [
    "# function to test the model on a single image of an alphabet with index 'idx' in the dataset\n",
    "def test_alphabets(idx):\n",
    "    print(\"Actual image:\")\n",
    "    plt.imshow(alphabets[idx], cmap='gray')\n",
    "    plt.show()\n",
    "    print(f\"Actual label: {labels[labels_alphabets[idx]]}\")\n",
    "    # defining same transformations as done while training the mdoel\n",
    "    transform = transforms.Compose(\n",
    "            [transforms.ToTensor(),\n",
    "            transforms.Normalize((0.5), (0.5))]\n",
    "        )\n",
    "    # preprocessing the image\n",
    "    input_image = alphabets[idx] / 255.0\n",
    "    input_image = transform(input_image)\n",
    "    # obtaining output of the model; an extra dimension is first added to the image to represent batch size of 1\n",
    "    output = model(input_image.unsqueeze(0))\n",
    "    # taking maximum of log-likelihoods for the prediction\n",
    "    pred = output.data.max(1, keepdim=True)[1]\n",
    "    print(f\"Predicted label: {labels[pred[0][0]]}\")\n",
    "    \n",
    "# function to test the model on a single image of a digit with index 'idx' in the dataset\n",
    "def test_digits(idx):\n",
    "    print(\"Actual image:\")\n",
    "    plt.imshow(digits[idx], cmap='gray')\n",
    "    plt.show()\n",
    "    print(f\"Actual label: {labels[labels_digits[idx]]}\")\n",
    "    transform = transforms.Compose(\n",
    "            [transforms.ToTensor(),\n",
    "            transforms.Normalize((0.5), (0.5))]\n",
    "        )\n",
    "    input_image = digits[idx] / 255.0\n",
    "    input_image = transform(input_image)\n",
    "    output = model(input_image.unsqueeze(0))\n",
    "    pred = output.data.max(1, keepdim=True)[1]\n",
    "    print(f\"Predicted label: {labels[pred[0][0]]}\")"
   ]
  },
  {
   "cell_type": "code",
   "execution_count": 15,
   "id": "66cc8134-1063-4c90-856f-61c1ddee3185",
   "metadata": {},
   "outputs": [
    {
     "name": "stdout",
     "output_type": "stream",
     "text": [
      "Actual image:\n"
     ]
    },
    {
     "data": {
      "image/png": "[encoded data removed]",
      "text/plain": [
       "<Figure size 640x480 with 1 Axes>"
      ]
     },
     "metadata": {},
     "output_type": "display_data"
    },
    {
     "name": "stdout",
     "output_type": "stream",
     "text": [
      "Actual label: K\n",
      "Predicted label: K\n"
     ]
    }
   ],
   "source": [
    "test_alphabets(91512)"
   ]
  },
  {
   "cell_type": "code",
   "execution_count": 16,
   "id": "7fa35bdd-a219-4968-97ed-51e84ab200f8",
   "metadata": {},
   "outputs": [
    {
     "name": "stdout",
     "output_type": "stream",
     "text": [
      "Actual image:\n"
     ]
    },
    {
     "data": {
      "image/png": "[encoded data removed]",
      "text/plain": [
       "<Figure size 640x480 with 1 Axes>"
      ]
     },
     "metadata": {},
     "output_type": "display_data"
    },
    {
     "name": "stdout",
     "output_type": "stream",
     "text": [
      "Actual label: 9\n",
      "Predicted label: 9\n"
     ]
    }
   ],
   "source": [
    "test_digits(176)"
   ]
  },
  {
   "cell_type": "code",
   "execution_count": 17,
   "id": "8c5c9e42-a3bd-4822-814a-be8b50b24015",
   "metadata": {},
   "outputs": [],
   "source": [
    "# function to obtain training accuracy on the entire alphabets dataset; can be improved by DataLoaders\n",
    "# WARNING: this cell can take considerable time to run since it processes more than 4 lakh images\n",
    "def alphabets_accuracy():\n",
    "    count = 0\n",
    "    for idx in range(len(alphabets)):\n",
    "        # image pre-processing\n",
    "        transform = transforms.Compose(\n",
    "            [transforms.ToTensor(),\n",
    "            transforms.Normalize((0.5), (0.5))]\n",
    "        )\n",
    "        input_image = alphabets[idx] / 255.0\n",
    "        input_image = transform(input_image)\n",
    "        # obtaining output (log-likelihoods)\n",
    "        output = model(input_image.unsqueeze(0))\n",
    "        # making prediction by taking maximum of log-likelihoods\n",
    "        pred = output.data.max(1, keepdim=True)[1]\n",
    "        if pred[0][0] == labels_alphabets[idx]:\n",
    "            count += 1\n",
    "    accuracy = count * 100 / len(alphabets)\n",
    "    return accuracy"
   ]
  },
  {
   "cell_type": "code",
   "execution_count": 20,
   "id": "d7df7e09-0948-4122-91f7-15d4b2486e7a",
   "metadata": {},
   "outputs": [
    {
     "name": "stdout",
     "output_type": "stream",
     "text": [
      "Unexpected exception formatting exception. Falling back to standard exception\n"
     ]
    },
    {
     "name": "stderr",
     "output_type": "stream",
     "text": [
      "Traceback (most recent call last):\n",
      "  File \"C:\\Users\\PRANEETH\\anaconda3\\Lib\\site-packages\\IPython\\core\\interactiveshell.py\", line 3505, in run_code\n",
      "    exec(code_obj, self.user_global_ns, self.user_ns)\n",
      "  File \"C:\\Users\\PRANEETH\\AppData\\Local\\Temp\\ipykernel_16552\\172754947.py\", line 1, in <module>\n",
      "    accuracy_alphabets = alphabets_accuracy()\n",
      "                         ^^^^^^^^^^^^^^^^^^^^\n",
      "  File \"C:\\Users\\PRANEETH\\AppData\\Local\\Temp\\ipykernel_16552\\1641528558.py\", line -1, in alphabets_accuracy\n",
      "KeyboardInterrupt\n",
      "\n",
      "During handling of the above exception, another exception occurred:\n",
      "\n",
      "Traceback (most recent call last):\n",
      "  File \"C:\\Users\\PRANEETH\\anaconda3\\Lib\\site-packages\\IPython\\core\\interactiveshell.py\", line 2102, in showtraceback\n",
      "    stb = self.InteractiveTB.structured_traceback(\n",
      "          ^^^^^^^^^^^^^^^^^^^^^^^^^^^^^^^^^^^^^^^^\n",
      "  File \"C:\\Users\\PRANEETH\\anaconda3\\Lib\\site-packages\\IPython\\core\\ultratb.py\", line 1310, in structured_traceback\n",
      "    return FormattedTB.structured_traceback(\n",
      "           ^^^^^^^^^^^^^^^^^^^^^^^^^^^^^^^^^\n",
      "  File \"C:\\Users\\PRANEETH\\anaconda3\\Lib\\site-packages\\IPython\\core\\ultratb.py\", line 1199, in structured_traceback\n",
      "    return VerboseTB.structured_traceback(\n",
      "           ^^^^^^^^^^^^^^^^^^^^^^^^^^^^^^^\n",
      "  File \"C:\\Users\\PRANEETH\\anaconda3\\Lib\\site-packages\\IPython\\core\\ultratb.py\", line 1052, in structured_traceback\n",
      "    formatted_exception = self.format_exception_as_a_whole(etype, evalue, etb, number_of_lines_of_context,\n",
      "                          ^^^^^^^^^^^^^^^^^^^^^^^^^^^^^^^^^^^^^^^^^^^^^^^^^^^^^^^^^^^^^^^^^^^^^^^^^^^^^^^^\n",
      "  File \"C:\\Users\\PRANEETH\\anaconda3\\Lib\\site-packages\\IPython\\core\\ultratb.py\", line 978, in format_exception_as_a_whole\n",
      "    frames.append(self.format_record(record))\n",
      "                  ^^^^^^^^^^^^^^^^^^^^^^^^^^\n",
      "  File \"C:\\Users\\PRANEETH\\anaconda3\\Lib\\site-packages\\IPython\\core\\ultratb.py\", line 878, in format_record\n",
      "    frame_info.lines, Colors, self.has_colors, lvals\n",
      "    ^^^^^^^^^^^^^^^^\n",
      "  File \"C:\\Users\\PRANEETH\\anaconda3\\Lib\\site-packages\\IPython\\core\\ultratb.py\", line 712, in lines\n",
      "    return self._sd.lines\n",
      "           ^^^^^^^^^^^^^^\n",
      "  File \"C:\\Users\\PRANEETH\\anaconda3\\Lib\\site-packages\\stack_data\\utils.py\", line 145, in cached_property_wrapper\n",
      "    value = obj.__dict__[self.func.__name__] = self.func(obj)\n",
      "                                               ^^^^^^^^^^^^^^\n",
      "  File \"C:\\Users\\PRANEETH\\anaconda3\\Lib\\site-packages\\stack_data\\core.py\", line 698, in lines\n",
      "    pieces = self.included_pieces\n",
      "             ^^^^^^^^^^^^^^^^^^^^\n",
      "  File \"C:\\Users\\PRANEETH\\anaconda3\\Lib\\site-packages\\stack_data\\utils.py\", line 145, in cached_property_wrapper\n",
      "    value = obj.__dict__[self.func.__name__] = self.func(obj)\n",
      "                                               ^^^^^^^^^^^^^^\n",
      "  File \"C:\\Users\\PRANEETH\\anaconda3\\Lib\\site-packages\\stack_data\\core.py\", line 649, in included_pieces\n",
      "    pos = scope_pieces.index(self.executing_piece)\n",
      "                             ^^^^^^^^^^^^^^^^^^^^\n",
      "  File \"C:\\Users\\PRANEETH\\anaconda3\\Lib\\site-packages\\stack_data\\utils.py\", line 145, in cached_property_wrapper\n",
      "    value = obj.__dict__[self.func.__name__] = self.func(obj)\n",
      "                                               ^^^^^^^^^^^^^^\n",
      "  File \"C:\\Users\\PRANEETH\\anaconda3\\Lib\\site-packages\\stack_data\\core.py\", line 628, in executing_piece\n",
      "    return only(\n",
      "           ^^^^^\n",
      "  File \"C:\\Users\\PRANEETH\\anaconda3\\Lib\\site-packages\\executing\\executing.py\", line 164, in only\n",
      "    raise NotOneValueFound('Expected one value, found 0')\n",
      "executing.executing.NotOneValueFound: Expected one value, found 0\n"
     ]
    }
   ],
   "source": [
    "accuracy_alphabets = alphabets_accuracy()\n",
    "print(f\"Training accuracy on alphabets: {accuracy_alphabets}\")"
   ]
  },
  {
   "cell_type": "code",
   "execution_count": 21,
   "id": "361b6cbf-ef56-4f01-8fe7-4f0c8aad344f",
   "metadata": {},
   "outputs": [],
   "source": [
    "# function to obtain training accuracy on the entire digits dataset\n",
    "def digits_accuracy():\n",
    "    count = 0\n",
    "    for idx in range(len(digits)):\n",
    "        transform = transforms.Compose(\n",
    "            [transforms.ToTensor(),\n",
    "            transforms.Normalize((0.5), (0.5))]\n",
    "        )\n",
    "        input_image = digits[idx] / 255.0\n",
    "        input_image = transform(input_image)\n",
    "        output = model(input_image.unsqueeze(0))\n",
    "        pred = output.data.max(1, keepdim=True)[1]\n",
    "        if pred == labels_digits[idx]:\n",
    "            count += 1\n",
    "    \n",
    "    accuracy = count * 100 / len(digits)\n",
    "    return accuracy"
   ]
  },
  {
   "cell_type": "code",
   "execution_count": 22,
   "id": "32941b9f-7d06-42ad-80e2-bcd14178cde1",
   "metadata": {},
   "outputs": [
    {
     "name": "stdout",
     "output_type": "stream",
     "text": [
      "Training accuracy on digits: 93.16714285714286\n"
     ]
    }
   ],
   "source": [
    "accuracy_digits = digits_accuracy()\n",
    "print(f\"Training accuracy on digits: {accuracy_digits}\")"
   ]
  },
  {
   "cell_type": "code",
   "execution_count": 23,
   "id": "60f10ad6-345d-43de-9236-1b55363e35b4",
   "metadata": {},
   "outputs": [
    {
     "ename": "NameError",
     "evalue": "name 'accuracy_alphabets' is not defined",
     "output_type": "error",
     "traceback": [
      "\u001b[1;31m---------------------------------------------------------------------------\u001b[0m",
      "\u001b[1;31mNameError\u001b[0m                                 Traceback (most recent call last)",
      "Cell \u001b[1;32mIn[23], line 1\u001b[0m\n\u001b[1;32m----> 1\u001b[0m final_acc \u001b[38;5;241m=\u001b[39m (\u001b[38;5;241m372450\u001b[39m \u001b[38;5;241m*\u001b[39m accuracy_alphabets \u001b[38;5;241m+\u001b[39m \u001b[38;5;241m60000\u001b[39m \u001b[38;5;241m*\u001b[39m accuracy_digits) \u001b[38;5;241m/\u001b[39m (\u001b[38;5;241m372450\u001b[39m \u001b[38;5;241m+\u001b[39m \u001b[38;5;241m60000\u001b[39m)\n\u001b[0;32m      2\u001b[0m \u001b[38;5;28mprint\u001b[39m(\u001b[38;5;124mf\u001b[39m\u001b[38;5;124m\"\u001b[39m\u001b[38;5;124mOverall training accuracy: \u001b[39m\u001b[38;5;132;01m{\u001b[39;00mfinal_acc\u001b[38;5;132;01m}\u001b[39;00m\u001b[38;5;124m\"\u001b[39m)\n",
      "\u001b[1;31mNameError\u001b[0m: name 'accuracy_alphabets' is not defined"
     ]
    }
   ],
   "source": [
    "final_acc = (372450 * accuracy_alphabets + 60000 * accuracy_digits) / (372450 + 60000)\n",
    "print(f\"Overall training accuracy: {final_acc}\")"
   ]
  },
  {
   "cell_type": "markdown",
   "id": "pleased-indicator",
   "metadata": {},
   "source": [
    "# Testing on Custom_Images"
   ]
  },
  {
   "cell_type": "code",
   "execution_count": 24,
   "id": "8d0d4c9c-d497-44c1-a108-290c70f502b2",
   "metadata": {},
   "outputs": [],
   "source": [
    "import cv2"
   ]
  },
  {
   "cell_type": "code",
   "execution_count": 25,
   "id": "5b08b389-4cff-49b7-acfd-5973903b7890",
   "metadata": {},
   "outputs": [],
   "source": [
    "# function to test the model on a custom image\n",
    "def predict_custom_image(path):\n",
    "    img = cv2.imread(path)\n",
    "    # converting RGB image to grayscale\n",
    "    gray = cv2.cvtColor(img, cv2.COLOR_BGR2GRAY)\n",
    "    # blurring image if it is of an exceptionally high resolution\n",
    "    if gray.shape[0] > 1500:\n",
    "        gray = cv2.GaussianBlur(gray, (401, 401), 0)\n",
    "    # resizing the image according to the requirements of the model\n",
    "    small = cv2.resize(gray, (28, 28))\n",
    "    # inverting colours to get black background\n",
    "    small = cv2.bitwise_not(small)\n",
    "    # converting image to pure black and white\n",
    "    (thresh, small) = cv2.threshold(small, 127, 255, cv2.THRESH_BINARY)\n",
    "    \n",
    "    img_array = np.array(small, dtype=np.float32)\n",
    "    \n",
    "    plt.imshow(img_array, cmap=\"gray\")\n",
    "    plt.show()\n",
    "    \n",
    "    # image pre-processing \n",
    "    transform = transforms.Compose(\n",
    "            [transforms.ToTensor(),\n",
    "            transforms.Normalize((0.5), (0.5))]\n",
    "            )\n",
    "    input_image = img_array / 255.0\n",
    "    input_image = transform(input_image)\n",
    "    # getting output\n",
    "    output = model(input_image.unsqueeze(0))\n",
    "    # making prediction\n",
    "    pred = output.data.max(1, keepdim=True)[1]\n",
    "    return labels[pred]"
   ]
  },
  {
   "cell_type": "code",
   "execution_count": 29,
   "id": "50a4fccb-7ff1-4de7-b8ef-bce493cbe52d",
   "metadata": {},
   "outputs": [
    {
     "data": {
      "image/png": "[encoded data removed]",
      "text/plain": [
       "<Figure size 640x480 with 1 Axes>"
      ]
     },
     "metadata": {},
     "output_type": "display_data"
    },
    {
     "name": "stdout",
     "output_type": "stream",
     "text": [
      "Predicted label : R\n"
     ]
    }
   ],
   "source": [
    "\n",
    "img_names = ['R']\n",
    "for img in img_names:\n",
    "    PATH = \"C:/Users/PRANEETH/Downloads/Handwritten-digit-and-alphabet-recognition--main/Handwritten-digit-and-alphabet-recognition--main/custom_images/R.jpg\"\n",
    "    pred = predict_custom_image(PATH)\n",
    "    print(f\"Predicted label : {pred}\")"
   ]
  },
  {
   "cell_type": "code",
   "execution_count": 33,
   "id": "6e87615b",
   "metadata": {},
   "outputs": [
    {
     "data": {
      "image/png": "[encoded data removed]",
      "text/plain": [
       "<Figure size 640x480 with 1 Axes>"
      ]
     },
     "metadata": {},
     "output_type": "display_data"
    },
    {
     "name": "stdout",
     "output_type": "stream",
     "text": [
      "Predicted label : 4\n"
     ]
    }
   ],
   "source": [
    "\n",
    "img_names = [4]\n",
    "for img in img_names:\n",
    "    PATH = \"C:/Users/PRANEETH/Downloads/Handwritten-digit-and-alphabet-recognition--main/Handwritten-digit-and-alphabet-recognition--main/custom_images/4.jpg\"\n",
    "    pred = predict_custom_image(PATH)\n",
    "    print(f\"Predicted label : {pred}\")"
   ]
  },
  {
   "cell_type": "code",
   "execution_count": 34,
   "id": "01af0324",
   "metadata": {},
   "outputs": [
    {
     "data": {
      "image/png": "[encoded data removed]",
      "text/plain": [
       "<Figure size 640x480 with 1 Axes>"
      ]
     },
     "metadata": {},
     "output_type": "display_data"
    },
    {
     "name": "stdout",
     "output_type": "stream",
     "text": [
      "Predicted label : G\n"
     ]
    }
   ],
   "source": [
    "img_names = ['G']\n",
    "for img in img_names:\n",
    "    PATH = \"C:/Users/PRANEETH/Downloads/Handwritten-digit-and-alphabet-recognition--main/Handwritten-digit-and-alphabet-recognition--main/custom_images/G.jpg\"\n",
    "    pred = predict_custom_image(PATH)\n",
    "    print(f\"Predicted label : {pred}\")"
   ]
  }
 ],
 "metadata": {
  "kernelspec": {
   "display_name": "Python 3 (ipykernel)",
   "language": "python",
   "name": "python3"
  },
  "language_info": {
   "codemirror_mode": {
    "name": "ipython",
    "version": 3
   },
   "file_extension": ".py",
   "mimetype": "text/x-python",
   "name": "python",
   "nbconvert_exporter": "python",
   "pygments_lexer": "ipython3",
   "version": "3.11.4"
  }
 },
 "nbformat": 4,
 "nbformat_minor": 5
}
