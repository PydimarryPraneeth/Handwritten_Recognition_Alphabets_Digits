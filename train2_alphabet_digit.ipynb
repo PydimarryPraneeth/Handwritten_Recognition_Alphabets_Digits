{
 "cells": [
  {
   "cell_type": "markdown",
   "id": "realistic-introduction",
   "metadata": {},
   "source": [
    "# Training Random Forest Model to Compare it with CNN"
   ]
  },
  {
   "cell_type": "code",
   "execution_count": 2,
   "id": "practical-wells",
   "metadata": {},
   "outputs": [],
   "source": [
    "import pandas as pd\n",
    "import numpy as np\n",
    "from sklearn.model_selection import train_test_split"
   ]
  },
  {
   "cell_type": "code",
   "execution_count": 6,
   "id": "inside-replication",
   "metadata": {},
   "outputs": [],
   "source": [
    "def read_data(path):\n",
    "    data = []\n",
    "    labels = []\n",
    "    \n",
    "    # Open the file and skip the first line (header)\n",
    "    with open(path) as file:\n",
    "        next(file)  # Skip the header\n",
    "        for row in file:\n",
    "            row = row.split(',')\n",
    "            label = int(row[0])\n",
    "            image = np.array([int(x) for x in row[1:]], dtype=\"uint8\")\n",
    "            \n",
    "            # image = image.reshape((28, 28))\n",
    "            image = image.reshape((-1,))\n",
    "            \n",
    "            data.append(image)\n",
    "            labels.append(label)\n",
    "    \n",
    "    data = np.array(data, dtype=\"float32\")\n",
    "    labels = np.array(labels, dtype=\"int\")\n",
    "    \n",
    "    return data, labels\n",
    "\n",
    "# Reading alphabet and digit datasets\n",
    "alphabets, labels_alphabets = read_data(\"C:/Users/PRANEETH/Downloads/archive (2)/A_Z Handwritten Data.csv\")\n",
    "labels_alphabets += 10\n",
    "\n",
    "digits, labels_digits = read_data(\"C:/Users/PRANEETH/Downloads/archive (1)/mnist_train.csv\")\n",
    "\n",
    "# Combining alphabets and digits images\n",
    "data = np.vstack([alphabets, digits])\n",
    "labels = np.hstack([labels_alphabets, labels_digits])\n",
    "\n",
    "# Normalizing the data\n",
    "data /= 255.0\n"
   ]
  },
  {
   "cell_type": "code",
   "execution_count": 7,
   "id": "above-accident",
   "metadata": {},
   "outputs": [
    {
     "name": "stdout",
     "output_type": "stream",
     "text": [
      "(259470, 784)\n",
      "(172980, 784)\n"
     ]
    }
   ],
   "source": [
    "X_train, X_test, y_train, y_test = train_test_split(data, labels, test_size=0.4, random_state=0)\n",
    "print(X_train.shape)\n",
    "print(X_test.shape)"
   ]
  },
  {
   "cell_type": "code",
   "execution_count": 8,
   "id": "burning-communist",
   "metadata": {},
   "outputs": [
    {
     "data": {
      "text/html": [
       "<style>#sk-container-id-1 {color: black;}#sk-container-id-1 pre{padding: 0;}#sk-container-id-1 div.sk-toggleable {background-color: white;}#sk-container-id-1 label.sk-toggleable__label {cursor: pointer;display: block;width: 100%;margin-bottom: 0;padding: 0.3em;box-sizing: border-box;text-align: center;}#sk-container-id-1 label.sk-toggleable__label-arrow:before {content: \"▸\";float: left;margin-right: 0.25em;color: #696969;}#sk-container-id-1 label.sk-toggleable__label-arrow:hover:before {color: black;}#sk-container-id-1 div.sk-estimator:hover label.sk-toggleable__label-arrow:before {color: black;}#sk-container-id-1 div.sk-toggleable__content {max-height: 0;max-width: 0;overflow: hidden;text-align: left;background-color: #f0f8ff;}#sk-container-id-1 div.sk-toggleable__content pre {margin: 0.2em;color: black;border-radius: 0.25em;background-color: #f0f8ff;}#sk-container-id-1 input.sk-toggleable__control:checked~div.sk-toggleable__content {max-height: 200px;max-width: 100%;overflow: auto;}#sk-container-id-1 input.sk-toggleable__control:checked~label.sk-toggleable__label-arrow:before {content: \"▾\";}#sk-container-id-1 div.sk-estimator input.sk-toggleable__control:checked~label.sk-toggleable__label {background-color: #d4ebff;}#sk-container-id-1 div.sk-label input.sk-toggleable__control:checked~label.sk-toggleable__label {background-color: #d4ebff;}#sk-container-id-1 input.sk-hidden--visually {border: 0;clip: rect(1px 1px 1px 1px);clip: rect(1px, 1px, 1px, 1px);height: 1px;margin: -1px;overflow: hidden;padding: 0;position: absolute;width: 1px;}#sk-container-id-1 div.sk-estimator {font-family: monospace;background-color: #f0f8ff;border: 1px dotted black;border-radius: 0.25em;box-sizing: border-box;margin-bottom: 0.5em;}#sk-container-id-1 div.sk-estimator:hover {background-color: #d4ebff;}#sk-container-id-1 div.sk-parallel-item::after {content: \"\";width: 100%;border-bottom: 1px solid gray;flex-grow: 1;}#sk-container-id-1 div.sk-label:hover label.sk-toggleable__label {background-color: #d4ebff;}#sk-container-id-1 div.sk-serial::before {content: \"\";position: absolute;border-left: 1px solid gray;box-sizing: border-box;top: 0;bottom: 0;left: 50%;z-index: 0;}#sk-container-id-1 div.sk-serial {display: flex;flex-direction: column;align-items: center;background-color: white;padding-right: 0.2em;padding-left: 0.2em;position: relative;}#sk-container-id-1 div.sk-item {position: relative;z-index: 1;}#sk-container-id-1 div.sk-parallel {display: flex;align-items: stretch;justify-content: center;background-color: white;position: relative;}#sk-container-id-1 div.sk-item::before, #sk-container-id-1 div.sk-parallel-item::before {content: \"\";position: absolute;border-left: 1px solid gray;box-sizing: border-box;top: 0;bottom: 0;left: 50%;z-index: -1;}#sk-container-id-1 div.sk-parallel-item {display: flex;flex-direction: column;z-index: 1;position: relative;background-color: white;}#sk-container-id-1 div.sk-parallel-item:first-child::after {align-self: flex-end;width: 50%;}#sk-container-id-1 div.sk-parallel-item:last-child::after {align-self: flex-start;width: 50%;}#sk-container-id-1 div.sk-parallel-item:only-child::after {width: 0;}#sk-container-id-1 div.sk-dashed-wrapped {border: 1px dashed gray;margin: 0 0.4em 0.5em 0.4em;box-sizing: border-box;padding-bottom: 0.4em;background-color: white;}#sk-container-id-1 div.sk-label label {font-family: monospace;font-weight: bold;display: inline-block;line-height: 1.2em;}#sk-container-id-1 div.sk-label-container {text-align: center;}#sk-container-id-1 div.sk-container {/* jupyter's `normalize.less` sets `[hidden] { display: none; }` but bootstrap.min.css set `[hidden] { display: none !important; }` so we also need the `!important` here to be able to override the default hidden behavior on the sphinx rendered scikit-learn.org. See: https://github.com/scikit-learn/scikit-learn/issues/21755 */display: inline-block !important;position: relative;}#sk-container-id-1 div.sk-text-repr-fallback {display: none;}</style><div id=\"sk-container-id-1\" class=\"sk-top-container\"><div class=\"sk-text-repr-fallback\"><pre>RandomForestClassifier(n_estimators=5)</pre><b>In a Jupyter environment, please rerun this cell to show the HTML representation or trust the notebook. <br />On GitHub, the HTML representation is unable to render, please try loading this page with nbviewer.org.</b></div><div class=\"sk-container\" hidden><div class=\"sk-item\"><div class=\"sk-estimator sk-toggleable\"><input class=\"sk-toggleable__control sk-hidden--visually\" id=\"sk-estimator-id-1\" type=\"checkbox\" checked><label for=\"sk-estimator-id-1\" class=\"sk-toggleable__label sk-toggleable__label-arrow\">RandomForestClassifier</label><div class=\"sk-toggleable__content\"><pre>RandomForestClassifier(n_estimators=5)</pre></div></div></div></div></div>"
      ],
      "text/plain": [
       "RandomForestClassifier(n_estimators=5)"
      ]
     },
     "execution_count": 8,
     "metadata": {},
     "output_type": "execute_result"
    }
   ],
   "source": [
    "from sklearn.ensemble import RandomForestClassifier  #Random Forest algorithm\n",
    "from sklearn.model_selection import train_test_split\n",
    "from sklearn.metrics import classification_report, confusion_matrix\n",
    "from sklearn.model_selection import RandomizedSearchCV, GridSearchCV \n",
    "from sklearn.model_selection import cross_val_score\n",
    "\n",
    "rf = RandomForestClassifier(n_estimators=5)\n",
    "rf.fit(X_train,y_train)\n"
   ]
  },
  {
   "cell_type": "code",
   "execution_count": 9,
   "id": "civil-literacy",
   "metadata": {},
   "outputs": [
    {
     "name": "stdout",
     "output_type": "stream",
     "text": [
      "Classification Report\n",
      "              precision    recall  f1-score   support\n",
      "\n",
      "           0       0.79      0.85      0.82      2369\n",
      "           1       0.90      0.98      0.94      2671\n",
      "           2       0.71      0.82      0.76      2411\n",
      "           3       0.74      0.82      0.78      2487\n",
      "           4       0.74      0.84      0.79      2338\n",
      "           5       0.77      0.72      0.75      2202\n",
      "           6       0.86      0.90      0.88      2305\n",
      "           7       0.87      0.90      0.88      2567\n",
      "           8       0.81      0.74      0.78      2382\n",
      "           9       0.86      0.82      0.84      2415\n",
      "          10       0.87      0.94      0.90      5563\n",
      "          11       0.86      0.83      0.84      3548\n",
      "          12       0.94      0.97      0.96      9355\n",
      "          13       0.89      0.87      0.88      4041\n",
      "          14       0.92      0.91      0.91      4533\n",
      "          15       0.94      0.86      0.90       473\n",
      "          16       0.90      0.86      0.88      2286\n",
      "          17       0.89      0.84      0.87      2906\n",
      "          18       0.99      0.83      0.90       471\n",
      "          19       0.92      0.90      0.91      3377\n",
      "          20       0.91      0.89      0.90      2174\n",
      "          21       0.96      0.97      0.97      4639\n",
      "          22       0.95      0.91      0.93      4899\n",
      "          23       0.93      0.94      0.94      7742\n",
      "          24       0.96      0.98      0.97     23259\n",
      "          25       0.97      0.97      0.97      7594\n",
      "          26       0.93      0.76      0.83      2387\n",
      "          27       0.94      0.87      0.90      4715\n",
      "          28       0.96      0.97      0.97     19126\n",
      "          29       0.98      0.98      0.98      8935\n",
      "          30       0.96      0.96      0.96     11589\n",
      "          31       0.97      0.96      0.97      1619\n",
      "          32       0.97      0.90      0.94      4290\n",
      "          33       0.96      0.89      0.92      2499\n",
      "          34       0.96      0.93      0.94      4361\n",
      "          35       0.94      0.88      0.91      2452\n",
      "\n",
      "    accuracy                           0.93    172980\n",
      "   macro avg       0.90      0.89      0.89    172980\n",
      "weighted avg       0.93      0.93      0.93    172980\n",
      "\n",
      "Confusion Report\n",
      "[[2018    1    5 ...    0    0    0]\n",
      " [   2 2608    9 ...    1    5    0]\n",
      " [  28   28 1985 ...    6    5   82]\n",
      " ...\n",
      " [   0    8   23 ... 2221   36    6]\n",
      " [   1   24    6 ...   18 4042    0]\n",
      " [   1    0   99 ...    4    2 2153]]\n"
     ]
    }
   ],
   "source": [
    "pred=rf.predict(X_test)\n",
    "print (\"Classification Report\")\n",
    "print(classification_report(y_test, pred))\n",
    "print (\"Confusion Report\")\n",
    "print(confusion_matrix(y_test, pred))"
   ]
  },
  {
   "cell_type": "code",
   "execution_count": 10,
   "id": "boring-antigua",
   "metadata": {},
   "outputs": [],
   "source": [
    "from sklearn.metrics import accuracy_score\n",
    "\n",
    "acc = accuracy_score(y_test, pred)"
   ]
  },
  {
   "cell_type": "code",
   "execution_count": 11,
   "id": "competitive-method",
   "metadata": {},
   "outputs": [
    {
     "name": "stdout",
     "output_type": "stream",
     "text": [
      "0.9250375765984507\n"
     ]
    }
   ],
   "source": [
    "print(acc)"
   ]
  },
  {
   "cell_type": "code",
   "execution_count": null,
   "id": "f405fc97",
   "metadata": {},
   "outputs": [],
   "source": []
  }
 ],
 "metadata": {
  "kernelspec": {
   "display_name": "Python 3 (ipykernel)",
   "language": "python",
   "name": "python3"
  },
  "language_info": {
   "codemirror_mode": {
    "name": "ipython",
    "version": 3
   },
   "file_extension": ".py",
   "mimetype": "text/x-python",
   "name": "python",
   "nbconvert_exporter": "python",
   "pygments_lexer": "ipython3",
   "version": "3.11.4"
  }
 },
 "nbformat": 4,
 "nbformat_minor": 5
}
